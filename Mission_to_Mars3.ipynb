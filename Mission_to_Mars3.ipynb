{
 "cells": [
  {
   "cell_type": "code",
   "execution_count": 1,
   "metadata": {},
   "outputs": [],
   "source": [
    "# Dependencies\n",
    "from bs4 import BeautifulSoup as bs\n",
    "import requests\n",
    "from splinter import Browser\n",
    "import pandas as pd\n",
    "import time"
   ]
  },
  {
   "cell_type": "code",
   "execution_count": 2,
   "metadata": {},
   "outputs": [
    {
     "name": "stderr",
     "output_type": "stream",
     "text": [
      "C:\\Users\\melis\\Anaconda3\\envs\\PythonData\\lib\\site-packages\\ipykernel_launcher.py:5: DeprecationWarning: use options instead of chrome_options\n",
      "  \"\"\"\n"
     ]
    }
   ],
   "source": [
    "# Set the chromedriver path\n",
    "from selenium import webdriver\n",
    "options = webdriver.ChromeOptions() \n",
    "options.add_argument('--headless')\n",
    "driver=webdriver.Chrome(\"C:\\Data_Visualization\\\\UCFLM20190409DATA\\\\Homework\\\\12-Web-Scraping-and-Document-Databases\\\\chromedriver.exe\", chrome_options=options)\n",
    "executable_path = {\"executable_path\": \"C:\\Data_Visualization\\\\UCFLM20190409DATA\\\\Homework\\\\12-Web-Scraping-and-Document-Databases\\\\chromedriver.exe\"}\n",
    "browser = Browser(\"chrome\", **executable_path, headless=False)"
   ]
  },
  {
   "cell_type": "code",
   "execution_count": 3,
   "metadata": {},
   "outputs": [],
   "source": [
    "# NASA Mars News\n",
    "Nasa_Mars_news_url = \"https://mars.nasa.gov/news/?page=0&per_page=40&order=publish_date+desc%2Ccreated_at+desc&search=&category=19%2C165%2C184%2C204&blank_scope=Latest\"\n",
    "browser.visit(Nasa_Mars_news_url)"
   ]
  },
  {
   "cell_type": "code",
   "execution_count": 4,
   "metadata": {},
   "outputs": [],
   "source": [
    "# Convert the browser html to a soup object and then quit the browser\n",
    "html = browser.html\n",
    "soup = bs(html, 'html.parser')"
   ]
  },
  {
   "cell_type": "code",
   "execution_count": 6,
   "metadata": {},
   "outputs": [
    {
     "name": "stdout",
     "output_type": "stream",
     "text": [
      "NASA Invites Students to Name Mars 2020 Rover\n"
     ]
    }
   ],
   "source": [
    "#Scrape the NASA Mars News Site and collect the latest News Title. Assign the text to variables that you can reference later.\n",
    "news_title = soup.find(\"li\", class_=\"slide\").find(\"div\", class_=\"content_title\").text\n",
    "print(news_title)"
   ]
  },
  {
   "cell_type": "code",
   "execution_count": 7,
   "metadata": {},
   "outputs": [
    {
     "name": "stdout",
     "output_type": "stream",
     "text": [
      "Through Nov. 1, K-12 students in the U.S. are encouraged to enter an essay contest to name NASA's next Mars rover.\n"
     ]
    }
   ],
   "source": [
    "#Scrape the NASA Mars News Site and collect the latest Paragraph Text. Assign the text to variables that you can reference later.\n",
    "news_p = soup.find(\"li\", class_=\"slide\").find(\"div\", class_=\"article_teaser_body\").text\n",
    "print(news_p)"
   ]
  },
  {
   "cell_type": "code",
   "execution_count": 8,
   "metadata": {},
   "outputs": [
    {
     "name": "stdout",
     "output_type": "stream",
     "text": [
      "https://www.jpl.nasa.gov/spaceimages/images/wallpaper/PIA00069-1920x1200.jpg\n"
     ]
    }
   ],
   "source": [
    "# Use splinter to navigate the site and find the image url for the current Featured Mars Image and assign the url string to a variable called featured_image_url. URL to be scrapped.\n",
    "featured_image_url = 'https://www.jpl.nasa.gov/spaceimages/images/wallpaper/PIA00069-1920x1200.jpg'\n",
    "\n",
    "print(featured_image_url)"
   ]
  },
  {
   "cell_type": "code",
   "execution_count": 9,
   "metadata": {},
   "outputs": [],
   "source": [
    "#Visit the page using the browser\n",
    "browser.visit(featured_image_url)\n",
    "# assign html content\n",
    "html = browser.html\n",
    "# Create a Beautiful Soup object\n",
    "soup_featured_image = bs(html, \"html.parser\")"
   ]
  },
  {
   "cell_type": "code",
   "execution_count": 10,
   "metadata": {},
   "outputs": [
    {
     "name": "stdout",
     "output_type": "stream",
     "text": [
      "We won’t be hearing from @MarsCuriosity or @NASAInSight for the next 2 weeks during Mars solar conjunction. Read more about why Mars missions go silent every 2 years: https://www.wral.com/mars-spacecraft-go-quiet-during-solar-conjunction/18595551/ …pic.twitter.com/fWruE2v151\n"
     ]
    }
   ],
   "source": [
    "# Mars Weather URL to be scrapped\n",
    "Mars_weather_url = 'https://twitter.com/marswxreport?lang=en'\n",
    "       \n",
    "#Visit the page using the browser\n",
    "browser.visit(Mars_weather_url)\n",
    "# assign html content\n",
    "html = browser.html\n",
    "# Create a Beautiful Soup object\n",
    "Mars_weather_soup = bs(html, \"html.parser\")\n",
    "\n",
    "Mars_weather =Mars_weather_soup.find_all('p', class_='TweetTextSize TweetTextSize--normal js-tweet-text tweet-text')[0].text\n",
    "print(Mars_weather)"
   ]
  },
  {
   "cell_type": "code",
   "execution_count": 11,
   "metadata": {},
   "outputs": [
    {
     "name": "stdout",
     "output_type": "stream",
     "text": [
      "<div class=\"js-tweet-text-container\">\n",
      "<p class=\"TweetTextSize TweetTextSize--normal js-tweet-text tweet-text\" data-aria-label-part=\"0\" lang=\"en\">We won’t be hearing from <a class=\"twitter-atreply pretty-link js-nav\" data-mentioned-user-id=\"15473958\" dir=\"ltr\" href=\"/MarsCuriosity\"><s>@</s><b>MarsCuriosity</b></a> or <a class=\"twitter-atreply pretty-link js-nav\" data-mentioned-user-id=\"407387443\" dir=\"ltr\" href=\"/NASAInSight\"><s>@</s><b>NASAInSight</b></a> for the next 2 weeks during Mars solar conjunction. Read more about why Mars missions go silent every 2 years: <a class=\"twitter-timeline-link\" data-expanded-url=\"https://www.wral.com/mars-spacecraft-go-quiet-during-solar-conjunction/18595551/\" dir=\"ltr\" href=\"https://t.co/OAOoqH9HCt\" rel=\"nofollow noopener\" target=\"_blank\" title=\"https://www.wral.com/mars-spacecraft-go-quiet-during-solar-conjunction/18595551/\"><span class=\"tco-ellipsis\"></span><span class=\"invisible\">https://www.</span><span class=\"js-display-url\">wral.com/mars-spacecraf</span><span class=\"invisible\">t-go-quiet-during-solar-conjunction/18595551/</span><span class=\"tco-ellipsis\"><span class=\"invisible\"> </span>…</span></a><a class=\"twitter-timeline-link u-hidden\" data-pre-embedded=\"true\" dir=\"ltr\" href=\"https://t.co/fWruE2v151\">pic.twitter.com/fWruE2v151</a></p>\n",
      "</div>\n"
     ]
    }
   ],
   "source": [
    "Mars_weather_data = Mars_weather_soup.find('div', class_='js-tweet-text-container')\n",
    "print(Mars_weather_data)"
   ]
  },
  {
   "cell_type": "code",
   "execution_count": 12,
   "metadata": {},
   "outputs": [],
   "source": [
    "#Mars facts URL\n",
    "mars_facts_url=\"https://space-facts.com/mars/\""
   ]
  },
  {
   "cell_type": "code",
   "execution_count": 13,
   "metadata": {},
   "outputs": [
    {
     "data": {
      "text/plain": [
       "[  Mars - Earth Comparison             Mars            Earth\n",
       " 0               Diameter:         6,779 km        12,742 km\n",
       " 1                   Mass:  6.39 × 10^23 kg  5.97 × 10^24 kg\n",
       " 2                  Moons:                2                1\n",
       " 3      Distance from Sun:   227,943,824 km   149,598,262 km\n",
       " 4         Length of Year:   687 Earth days      365.24 days\n",
       " 5            Temperature:    -153 to 20 °C      -88 to 58°C,\n",
       "                       0                              1\n",
       " 0  Equatorial Diameter:                       6,792 km\n",
       " 1       Polar Diameter:                       6,752 km\n",
       " 2                 Mass:  6.39 × 10^23 kg (0.11 Earths)\n",
       " 3                Moons:            2 (Phobos & Deimos)\n",
       " 4       Orbit Distance:       227,943,824 km (1.38 AU)\n",
       " 5         Orbit Period:           687 days (1.9 years)\n",
       " 6  Surface Temperature:                   -87 to -5 °C\n",
       " 7         First Record:              2nd millennium BC\n",
       " 8          Recorded By:           Egyptian astronomers]"
      ]
     },
     "execution_count": 13,
     "metadata": {},
     "output_type": "execute_result"
    }
   ],
   "source": [
    "# use Pandas to scrape the table\n",
    "tables = pd.read_html(mars_facts_url)\n",
    "tables"
   ]
  },
  {
   "cell_type": "code",
   "execution_count": 14,
   "metadata": {},
   "outputs": [
    {
     "data": {
      "text/html": [
       "<div>\n",
       "<style scoped>\n",
       "    .dataframe tbody tr th:only-of-type {\n",
       "        vertical-align: middle;\n",
       "    }\n",
       "\n",
       "    .dataframe tbody tr th {\n",
       "        vertical-align: top;\n",
       "    }\n",
       "\n",
       "    .dataframe thead th {\n",
       "        text-align: right;\n",
       "    }\n",
       "</style>\n",
       "<table border=\"1\" class=\"dataframe\">\n",
       "  <thead>\n",
       "    <tr style=\"text-align: right;\">\n",
       "      <th></th>\n",
       "      <th>Facts</th>\n",
       "      <th>Mars</th>\n",
       "      <th>Earth</th>\n",
       "    </tr>\n",
       "  </thead>\n",
       "  <tbody>\n",
       "    <tr>\n",
       "      <th>0</th>\n",
       "      <td>Diameter:</td>\n",
       "      <td>6,779 km</td>\n",
       "      <td>12,742 km</td>\n",
       "    </tr>\n",
       "    <tr>\n",
       "      <th>1</th>\n",
       "      <td>Mass:</td>\n",
       "      <td>6.39 × 10^23 kg</td>\n",
       "      <td>5.97 × 10^24 kg</td>\n",
       "    </tr>\n",
       "    <tr>\n",
       "      <th>2</th>\n",
       "      <td>Moons:</td>\n",
       "      <td>2</td>\n",
       "      <td>1</td>\n",
       "    </tr>\n",
       "    <tr>\n",
       "      <th>3</th>\n",
       "      <td>Distance from Sun:</td>\n",
       "      <td>227,943,824 km</td>\n",
       "      <td>149,598,262 km</td>\n",
       "    </tr>\n",
       "    <tr>\n",
       "      <th>4</th>\n",
       "      <td>Length of Year:</td>\n",
       "      <td>687 Earth days</td>\n",
       "      <td>365.24 days</td>\n",
       "    </tr>\n",
       "    <tr>\n",
       "      <th>5</th>\n",
       "      <td>Temperature:</td>\n",
       "      <td>-153 to 20 °C</td>\n",
       "      <td>-88 to 58°C</td>\n",
       "    </tr>\n",
       "  </tbody>\n",
       "</table>\n",
       "</div>"
      ],
      "text/plain": [
       "                Facts             Mars            Earth\n",
       "0           Diameter:         6,779 km        12,742 km\n",
       "1               Mass:  6.39 × 10^23 kg  5.97 × 10^24 kg\n",
       "2              Moons:                2                1\n",
       "3  Distance from Sun:   227,943,824 km   149,598,262 km\n",
       "4     Length of Year:   687 Earth days      365.24 days\n",
       "5        Temperature:    -153 to 20 °C      -88 to 58°C"
      ]
     },
     "execution_count": 14,
     "metadata": {},
     "output_type": "execute_result"
    }
   ],
   "source": [
    "# Convert list of table into pandas dataframe\n",
    "Mars_facts_df = tables[0]\n",
    "\n",
    "# update column name\n",
    "Mars_facts_df.columns=[\"Facts\", 'Mars','Earth']\n",
    "\n",
    "# inspect dataframe\n",
    "Mars_facts_df"
   ]
  },
  {
   "cell_type": "code",
   "execution_count": 15,
   "metadata": {},
   "outputs": [
    {
     "data": {
      "text/html": [
       "<div>\n",
       "<style scoped>\n",
       "    .dataframe tbody tr th:only-of-type {\n",
       "        vertical-align: middle;\n",
       "    }\n",
       "\n",
       "    .dataframe tbody tr th {\n",
       "        vertical-align: top;\n",
       "    }\n",
       "\n",
       "    .dataframe thead th {\n",
       "        text-align: right;\n",
       "    }\n",
       "</style>\n",
       "<table border=\"1\" class=\"dataframe\">\n",
       "  <thead>\n",
       "    <tr style=\"text-align: right;\">\n",
       "      <th></th>\n",
       "      <th>Facts</th>\n",
       "      <th>Mars</th>\n",
       "    </tr>\n",
       "  </thead>\n",
       "  <tbody>\n",
       "    <tr>\n",
       "      <th>0</th>\n",
       "      <td>Diameter:</td>\n",
       "      <td>6,779 km</td>\n",
       "    </tr>\n",
       "    <tr>\n",
       "      <th>1</th>\n",
       "      <td>Mass:</td>\n",
       "      <td>6.39 × 10^23 kg</td>\n",
       "    </tr>\n",
       "    <tr>\n",
       "      <th>2</th>\n",
       "      <td>Moons:</td>\n",
       "      <td>2</td>\n",
       "    </tr>\n",
       "    <tr>\n",
       "      <th>3</th>\n",
       "      <td>Distance from Sun:</td>\n",
       "      <td>227,943,824 km</td>\n",
       "    </tr>\n",
       "    <tr>\n",
       "      <th>4</th>\n",
       "      <td>Length of Year:</td>\n",
       "      <td>687 Earth days</td>\n",
       "    </tr>\n",
       "    <tr>\n",
       "      <th>5</th>\n",
       "      <td>Temperature:</td>\n",
       "      <td>-153 to 20 °C</td>\n",
       "    </tr>\n",
       "  </tbody>\n",
       "</table>\n",
       "</div>"
      ],
      "text/plain": [
       "                Facts             Mars\n",
       "0           Diameter:         6,779 km\n",
       "1               Mass:  6.39 × 10^23 kg\n",
       "2              Moons:                2\n",
       "3  Distance from Sun:   227,943,824 km\n",
       "4     Length of Year:   687 Earth days\n",
       "5        Temperature:    -153 to 20 °C"
      ]
     },
     "execution_count": 15,
     "metadata": {},
     "output_type": "execute_result"
    }
   ],
   "source": [
    "#Drop Earth column\n",
    "Mars_facts_df.drop([\"Earth\"], axis=1)"
   ]
  },
  {
   "cell_type": "code",
   "execution_count": 16,
   "metadata": {},
   "outputs": [],
   "source": [
    "# Use pandas to convert the data to a HTML table string\n",
    "Mars_facts_df.to_html('table.html')"
   ]
  },
  {
   "cell_type": "code",
   "execution_count": 17,
   "metadata": {},
   "outputs": [],
   "source": [
    "#Mars Hemispheres\n",
    "Mars_hemispheres_url = 'https://astrogeology.usgs.gov/search/results?q=hemisphere+enhanced&k1=target&v1=Mars'\n",
    "browser.visit(Mars_hemispheres_url)\n",
    "html = browser.html\n",
    "mars_hemispheres_soup = bs(html,\"html.parser\")\n",
    "links = mars_hemispheres_soup.find_all('div', class_='item')"
   ]
  },
  {
   "cell_type": "code",
   "execution_count": 18,
   "metadata": {},
   "outputs": [
    {
     "name": "stdout",
     "output_type": "stream",
     "text": [
      "<a class=\"itemLink product-item\" href=\"/search/map/Mars/Viking/cerberus_enhanced\"><img alt=\"Cerberus Hemisphere Enhanced thumbnail\" class=\"thumb\" src=\"/cache/images/dfaf3849e74bf973b59eb50dab52b583_cerberus_enhanced.tif_thumb.png\"/></a>\n"
     ]
    }
   ],
   "source": [
    "mars_hemispheres_title = mars_hemispheres_soup.find('a', class_='product-item')\n",
    "print(mars_hemispheres_title)"
   ]
  },
  {
   "cell_type": "code",
   "execution_count": 33,
   "metadata": {},
   "outputs": [
    {
     "name": "stdout",
     "output_type": "stream",
     "text": [
      "Cerberus Hemisphere Enhanced\n",
      "http://astropedia.astrogeology.usgs.gov/download/Mars/Viking/cerberus_enhanced.tif/full.jpg\n",
      "Schiaparelli Hemisphere Enhanced\n",
      "http://astropedia.astrogeology.usgs.gov/download/Mars/Viking/schiaparelli_enhanced.tif/full.jpg\n",
      "Syrtis Major Hemisphere Enhanced\n",
      "http://astropedia.astrogeology.usgs.gov/download/Mars/Viking/syrtis_major_enhanced.tif/full.jpg\n",
      "Valles Marineris Hemisphere Enhanced\n",
      "http://astropedia.astrogeology.usgs.gov/download/Mars/Viking/valles_marineris_enhanced.tif/full.jpg\n"
     ]
    }
   ],
   "source": [
    "hemisphere_image_urls = []\n",
    "\n",
    "for link in links:\n",
    "    title = link.h3.text\n",
    "    print(title)\n",
    "    browser.click_link_by_partial_text(title)\n",
    "    html = browser.html\n",
    "    soup = bs(html, 'html.parser')\n",
    "    results = soup.find('div', class_='downloads')\n",
    "    img_url = results.a['href']\n",
    "    hemisphere_image_urls.append({'title': title, 'img_url': img_url})\n",
    "    print(img_url)\n",
    "    browser.back()\n"
   ]
  },
  {
   "cell_type": "code",
   "execution_count": 34,
   "metadata": {},
   "outputs": [
    {
     "name": "stdout",
     "output_type": "stream",
     "text": [
      "Valles Marineris Hemisphere Enhanced\n"
     ]
    }
   ],
   "source": [
    "print(title)"
   ]
  }
 ],
 "metadata": {
  "kernelspec": {
   "display_name": "Python 3",
   "language": "python",
   "name": "python3"
  },
  "language_info": {
   "codemirror_mode": {
    "name": "ipython",
    "version": 3
   },
   "file_extension": ".py",
   "mimetype": "text/x-python",
   "name": "python",
   "nbconvert_exporter": "python",
   "pygments_lexer": "ipython3",
   "version": "3.6.8"
  },
  "toc": {
   "base_numbering": 1,
   "nav_menu": {},
   "number_sections": true,
   "sideBar": true,
   "skip_h1_title": false,
   "title_cell": "Table of Contents",
   "title_sidebar": "Contents",
   "toc_cell": false,
   "toc_position": {},
   "toc_section_display": true,
   "toc_window_display": false
  },
  "varInspector": {
   "cols": {
    "lenName": 16,
    "lenType": 16,
    "lenVar": 40
   },
   "kernels_config": {
    "python": {
     "delete_cmd_postfix": "",
     "delete_cmd_prefix": "del ",
     "library": "var_list.py",
     "varRefreshCmd": "print(var_dic_list())"
    },
    "r": {
     "delete_cmd_postfix": ") ",
     "delete_cmd_prefix": "rm(",
     "library": "var_list.r",
     "varRefreshCmd": "cat(var_dic_list()) "
    }
   },
   "types_to_exclude": [
    "module",
    "function",
    "builtin_function_or_method",
    "instance",
    "_Feature"
   ],
   "window_display": false
  }
 },
 "nbformat": 4,
 "nbformat_minor": 2
}
